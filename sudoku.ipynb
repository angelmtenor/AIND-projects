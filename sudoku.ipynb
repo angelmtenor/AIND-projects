{
 "cells": [
  {
   "cell_type": "code",
   "execution_count": 1,
   "metadata": {
    "collapsed": true
   },
   "outputs": [],
   "source": [
    "\"\"\"\n",
    "Solve a diagonal Sudoku with AI\n",
    "\n",
    "Source: https://github.com/udacity/AIND-Sudoku\n",
    "\n",
    "The data consists of a text file of diagonal sudokus for you to solve.\n",
    "\n",
    "\"\"\"\n",
    "\n",
    "\n",
    "rows = 'ABCDEFGHI'\n",
    "cols = '123456789'"
   ]
  },
  {
   "cell_type": "code",
   "execution_count": 2,
   "metadata": {
    "collapsed": true
   },
   "outputs": [],
   "source": [
    "def cross(a, b):\n",
    "    \"\"\"\n",
    "    Input:  a, b (string, tuple, list .. )\n",
    "    Output: cross list of all elements of a combined with b.\n",
    "            Example: a='AB', b = '12' -> ['A1', 'A2', 'B1', 'B2']\n",
    "    \"\"\"\n",
    "    return [s + t for s in a for t in b]"
   ]
  },
  {
   "cell_type": "code",
   "execution_count": 3,
   "metadata": {
    "collapsed": true
   },
   "outputs": [],
   "source": [
    "boxes = cross(rows, cols)\n",
    "row_units = [cross(r, cols) for r in rows]\n",
    "column_units = [cross(rows, c) for c in cols]\n",
    "square_units = [cross(rs, cs) for rs in ('ABC', 'DEF', 'GHI') for cs in ('123', '456', '789')]\n",
    "diagonal_units = [[r + c for r, c in zip(rows, cols)], [r + c for r, c in zip(rows, cols[::-1])]]\n",
    "# [['A1', 'B2', 'C3', 'D4', 'E5', 'F6', 'G7', 'H8', 'I9'], ['A9', 'B8', 'C7', 'D6', 'E5', 'F4', 'G3', 'H2', 'I1']]\n",
    "unitlist = row_units + column_units + square_units + diagonal_units\n",
    "units = dict((s, [u for u in unitlist if s in u]) for s in boxes)\n",
    "peers = dict((s, set(sum(units[s], [])) - {s}) for s in boxes)"
   ]
  },
  {
   "cell_type": "code",
   "execution_count": 4,
   "metadata": {
    "collapsed": true
   },
   "outputs": [],
   "source": [
    "def grid_values(grid):\n",
    "    \"\"\"\n",
    "    Convert grid into a dict of {square: char} with '123456789' for empties.\n",
    "    Input:  grid(string) - A grid in string form.\n",
    "    Output: A grid in dictionary form\n",
    "                Keys: The boxes, e.g., 'A1'\n",
    "                Values: The value in each box, e.g., '8'. If the box has no value, then the value will be '123456789'.\n",
    "    \"\"\"\n",
    "    assert len(grid) == 81, \"Input grid must be a string of length 81 (9x9)\"\n",
    "    values = dict(zip(boxes, grid))\n",
    "\n",
    "    # replace \".\" in the dictionary\n",
    "    for key, value in values.items():\n",
    "        if value == \".\":\n",
    "            value = \"123456789\"\n",
    "        values[key] = value\n",
    "    return values"
   ]
  },
  {
   "cell_type": "code",
   "execution_count": 5,
   "metadata": {
    "collapsed": true
   },
   "outputs": [],
   "source": [
    "def display(values):\n",
    "    \"\"\"\n",
    "    Display the values as a 2-D grid.\n",
    "    Input:  values(dict): The sudoku in dictionary form\n",
    "    \"\"\"\n",
    "    import copy\n",
    "    val = copy.copy(values)\n",
    "    for k, v in val.items():\n",
    "        if len(v) > 1:\n",
    "            val[k] = \"\"\n",
    "\n",
    "    width = 1 + max(len(val[s]) for s in boxes)\n",
    "    line = '+'.join(['-' * (width * 3)] * 3)\n",
    "    for r in rows:\n",
    "        print(''.join(val[r + c].center(width) + ('|' if c in '36' else '')\n",
    "                      for c in cols))\n",
    "        if r in 'CF':\n",
    "            print(line)"
   ]
  },
  {
   "cell_type": "code",
   "execution_count": 6,
   "metadata": {},
   "outputs": [
    {
     "name": "stdout",
     "output_type": "stream",
     "text": [
      "\n",
      "  Sudoku:\n",
      "\n",
      "2     |      |      \n",
      "      |    6 |2     \n",
      "    1 |      |  7   \n",
      "------+------+------\n",
      "    6 |    8 |      \n",
      "3     |  9   |    7 \n",
      "      |6     |4     \n",
      "------+------+------\n",
      "  4   |      |8     \n",
      "    5 |2     |      \n",
      "      |      |    3 \n"
     ]
    }
   ],
   "source": [
    "sudoku = '2.............62....1....7...6..8...3...9...7...6..4...4....8....52.............3'\n",
    "grid_sudoku = grid_values(sudoku)\n",
    "print(\"\\n  Sudoku:\\n\")\n",
    "display(grid_sudoku)"
   ]
  },
  {
   "cell_type": "code",
   "execution_count": 7,
   "metadata": {
    "collapsed": true
   },
   "outputs": [],
   "source": [
    "def eliminate(values):\n",
    "    \"\"\"\n",
    "    Go through all the boxes, and whenever there is a box with a value, eliminate this value from the values of all its\n",
    "     peers.\n",
    "    Input:  A sudoku in dictionary form.\n",
    "    Output: The resulting sudoku in dictionary form.\n",
    "    \"\"\"\n",
    "    # get solved boxes (1 value)\n",
    "    solved = [box for box in values.keys() if len(values[box]) == 1]\n",
    "    for box in solved:\n",
    "        for peer in peers[box]:\n",
    "            # eliminate solved value from peers (if possible)\n",
    "            value = values[peer].replace(values[box], '')\n",
    "            values[peer] = value\n",
    "    return values"
   ]
  },
  {
   "cell_type": "code",
   "execution_count": 8,
   "metadata": {
    "collapsed": true
   },
   "outputs": [],
   "source": [
    "def only_choice(values):\n",
    "    \"\"\"\n",
    "    Go through all the units, and whenever there is a unit with a value that only fits in one box, assign the value to\n",
    "     this box.\n",
    "    Input:  A sudoku in dictionary form.\n",
    "    Output: The resulting sudoku in dictionary form.\n",
    "    \"\"\"\n",
    "    for unit in unitlist:\n",
    "        for digit in '123456789':\n",
    "            # boxes per unit holding a particular digit\n",
    "            dplaces = [box for box in unit if digit in values[box]]\n",
    "            if len(dplaces) == 1:\n",
    "                # Just 1 box has the digit in its values for this unit -> only choice\n",
    "                values[dplaces[0]] = digit\n",
    "    return values"
   ]
  },
  {
   "cell_type": "code",
   "execution_count": 9,
   "metadata": {
    "collapsed": true
   },
   "outputs": [],
   "source": [
    "def naked_twins(values):\n",
    "    \"\"\"\n",
    "    Eliminate values using the naked twins strategy.\n",
    "    Input: values(dict): a dictionary of the form {'box_name': '123456789', ...}\n",
    "    Output: the values dictionary with the naked twins eliminated from peers.\n",
    "    \"\"\"\n",
    "    two_digit_boxes = [box for box in values.keys() if len(values[box]) == 2]\n",
    "    # each two_digit_boxes searches for a twin among its peers\n",
    "    for box in two_digit_boxes:\n",
    "        for peer in peers[box]:\n",
    "            if values[peer] == values[box]:\n",
    "                # pair of naked twins found\n",
    "                # getting its shared units:  usually one, although more is possible\n",
    "                shared_units = [x for x in units[box] if x in units[peer]]\n",
    "                # For each cell in each shared unit, remove the two digits of the naked twins (except for the twins)\n",
    "                for shared_unit in shared_units:\n",
    "                    for b in shared_unit:\n",
    "                        if b != box and b != peer:\n",
    "                            for digit in values[box]:\n",
    "                                value = values[b].replace(digit, '')\n",
    "                                values[b] = value\n",
    "    return values"
   ]
  },
  {
   "cell_type": "code",
   "execution_count": 10,
   "metadata": {
    "collapsed": true
   },
   "outputs": [],
   "source": [
    "def reduce_puzzle(values):\n",
    "    \"\"\"\n",
    "    Iterate eliminate(), only_choice(), and naked_twins().\n",
    "    If at some point, there is a box with no available values, return False.\n",
    "    If the sudoku is solved, return the sudoku.\n",
    "    If after an iteration of all the functions, the sudoku remains the same, return the sudoku.\n",
    "    Input: A sudoku in dictionary form.\n",
    "    Output: The resulting sudoku in dictionary form.\n",
    "    \"\"\"\n",
    "\n",
    "    stalled = False\n",
    "    while not stalled:\n",
    "        # Check how many boxes have a determined value\n",
    "        solved_values_before = len([box for box in values.keys() if len(values[box]) == 1])\n",
    "\n",
    "        # Eliminate Strategy\n",
    "        values = eliminate(values)\n",
    "        # Only Choice Strategy\n",
    "        values = only_choice(values)\n",
    "        # Naked Twins Strategy\n",
    "        values = naked_twins(values)\n",
    "\n",
    "        # Check how many boxes have a determined value, to compare\n",
    "        solved_values_after = len([box for box in values.keys() if len(values[box]) == 1])\n",
    "        # If no new values were added, stop the loop.\n",
    "        stalled = solved_values_before == solved_values_after\n",
    "        # Sanity check, return False if there is a box with zero available values:\n",
    "        if len([box for box in values.keys() if len(values[box]) == 0]):\n",
    "            return False\n",
    "    return values"
   ]
  },
  {
   "cell_type": "code",
   "execution_count": null,
   "metadata": {
    "collapsed": true
   },
   "outputs": [],
   "source": [
    "def search(values):\n",
    "    \"\"\"\n",
    "    Using depth-first search and propagation, try all possible values\n",
    "    Input: A sudoku in dictionary form.\n",
    "    Output: The resulting sudoku in dictionary form or False if there is a box with zero available values\n",
    "    \"\"\"\n",
    "    # reduce the puzzle\n",
    "    values = reduce_puzzle(values)\n",
    "    if values is False:  # Unsolved (zero available values)\n",
    "        return False\n",
    "    if all(len(values[s]) == 1 for s in boxes):  # Solved\n",
    "        return values\n",
    "\n",
    "    # choose one of the unfilled squares with the fewest possibilities\n",
    "    _, s = min((len(values[s]), s) for s in boxes if len(values[s]) > 1)\n",
    "\n",
    "    # solve recursively each one of the resulting sudokus; if one returns a value (not False), return the answer\n",
    "    for value in values[s]:\n",
    "        new_sudoku = values.copy()\n",
    "        new_sudoku[s] = value\n",
    "        attempt = search(new_sudoku)\n",
    "        if attempt:\n",
    "            return attempt\n",
    "\n",
    "\n",
    "\"\"\"\n",
    "    Find the solution to a Sudoku grid.\n",
    "    Input:  grid(string): a string representing a sudoku grid.\n",
    "                Example: '2.............62....1....7...6..8...3...9...7...6..4...4....8....52.............3'\n",
    "    Output: The dictionary representation of the final sudoku grid. False if no solution exists.\n",
    "\"\"\""
   ]
  },
  {
   "cell_type": "code",
   "execution_count": 11,
   "metadata": {},
   "outputs": [
    {
     "name": "stdout",
     "output_type": "stream",
     "text": [
      "\n",
      "  Solution found: \n",
      "\n",
      "2 6 7 |9 4 5 |3 8 1 \n",
      "8 5 3 |7 1 6 |2 4 9 \n",
      "4 9 1 |8 2 3 |5 7 6 \n",
      "------+------+------\n",
      "5 7 6 |4 3 8 |1 9 2 \n",
      "3 8 4 |1 9 2 |6 5 7 \n",
      "1 2 9 |6 5 7 |4 3 8 \n",
      "------+------+------\n",
      "6 4 2 |3 7 9 |8 1 5 \n",
      "9 3 5 |2 8 1 |7 6 4 \n",
      "7 1 8 |5 6 4 |9 2 3 \n"
     ]
    }
   ],
   "source": [
    "solution = search(grid_sudoku)\n",
    "\n",
    "if solution:\n",
    "    print(\"\\n  Solution found: \\n\")\n",
    "    display(solution)\n",
    "else:\n",
    "    print(\"\\n  Solution not found: \\n\")"
   ]
  }
 ],
 "metadata": {
  "kernelspec": {
   "display_name": "Python 3",
   "language": "python",
   "name": "python3"
  },
  "language_info": {
   "codemirror_mode": {
    "name": "ipython",
    "version": 3
   },
   "file_extension": ".py",
   "mimetype": "text/x-python",
   "name": "python",
   "nbconvert_exporter": "python",
   "pygments_lexer": "ipython3",
   "version": "3.6.1"
  }
 },
 "nbformat": 4,
 "nbformat_minor": 2
}
