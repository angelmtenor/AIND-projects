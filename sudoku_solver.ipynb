{
 "cells": [
  {
   "cell_type": "markdown",
   "metadata": {},
   "source": [
    "#  Solve a diagonal Sudoku\n",
    "\n",
    "Simple notebook version of the first project of Udacity's Artificial Intelligence Nanodegree\n",
    "\n",
    "Source: https://github.com/udacity/AIND-Sudoku"
   ]
  },
  {
   "cell_type": "markdown",
   "metadata": {},
   "source": [
    "## Setup the diagonal Sudoku problem"
   ]
  },
  {
   "cell_type": "code",
   "execution_count": 12,
   "metadata": {},
   "outputs": [],
   "source": [
    "rows = 'ABCDEFGHI'\n",
    "cols = '123456789'\n",
    "\n",
    "\n",
    "def cross(a, b):\n",
    "    \"\"\"\n",
    "    Input:  a, b (string, tuple, list .. )\n",
    "    Output: cross list of all elements of a combined with b.\n",
    "            Example: a='AB', b = '12' -> ['A1', 'A2', 'B1', 'B2']\n",
    "    \"\"\"\n",
    "    return [s + t for s in a for t in b]\n",
    "\n",
    "\n",
    "boxes = cross(rows, cols)\n",
    "row_units = [cross(r, cols) for r in rows]\n",
    "column_units = [cross(rows, c) for c in cols]\n",
    "square_units = [cross(rs, cs) for rs in ('ABC', 'DEF', 'GHI') for cs in ('123', '456', '789')]\n",
    "diagonal_units = [[r + c\n",
    "                   for r, c in zip(rows, cols)], [r + c for r, c in zip(rows, cols[::-1])]]\n",
    "# [['A1', 'B2', 'C3', 'D4', 'E5', 'F6', 'G7', 'H8', 'I9'],\n",
    "# ['A9', 'B8', 'C7', 'D6', 'E5', 'F4', 'G3', 'H2', 'I1']]\n",
    "unitlist = row_units + column_units + square_units + diagonal_units\n",
    "units = dict((s, [u for u in unitlist if s in u]) for s in boxes)\n",
    "peers = dict((s, set(sum(units[s], [])) - {s}) for s in boxes)"
   ]
  },
  {
   "cell_type": "markdown",
   "metadata": {},
   "source": [
    "## Input\n",
    "\n",
    "A String representing a sudoku grid. Example: '2.............62....1....7...6..8...3...9...7...6..4...4....8....52.............3' <br>\n",
    "The function below translates the string into a useful dictionary grid variable"
   ]
  },
  {
   "cell_type": "code",
   "execution_count": 13,
   "metadata": {},
   "outputs": [],
   "source": [
    "def grid_values(grid):\n",
    "    \"\"\"\n",
    "    Convert grid into a dict of {square: char} with '123456789' for empties.\n",
    "    Input:  grid(string) - A grid in string form.\n",
    "    Output: A grid in dictionary form\n",
    "                Keys: The boxes, e.g., 'A1'\n",
    "                Values: The value in each box, e.g., '8'. \n",
    "                If the box has no value, then the value will be '123456789'.\n",
    "    \"\"\"\n",
    "    assert len(grid) == 81, \"Input grid must be a string of length 81 (9x9)\"\n",
    "    values = dict(zip(boxes, grid))\n",
    "\n",
    "    # replace \".\" in the dictionary\n",
    "    for key, value in values.items():\n",
    "        if value == \".\":\n",
    "            value = \"123456789\"\n",
    "        values[key] = value\n",
    "    return values"
   ]
  },
  {
   "cell_type": "code",
   "execution_count": 14,
   "metadata": {},
   "outputs": [
    {
     "name": "stdout",
     "output_type": "stream",
     "text": [
      "{'A1': '2', 'A2': '123456789', 'A3': '123456789', 'A4': '123456789', 'A5': '123456789', 'A6': '123456789', 'A7': '123456789', 'A8': '123456789', 'A9': '123456789', 'B1': '123456789', 'B2': '123456789', 'B3': '123456789', 'B4': '123456789', 'B5': '123456789', 'B6': '6', 'B7': '2', 'B8': '123456789', 'B9': '123456789', 'C1': '123456789', 'C2': '123456789', 'C3': '1', 'C4': '123456789', 'C5': '123456789', 'C6': '123456789', 'C7': '123456789', 'C8': '7', 'C9': '123456789', 'D1': '123456789', 'D2': '123456789', 'D3': '6', 'D4': '123456789', 'D5': '123456789', 'D6': '8', 'D7': '123456789', 'D8': '123456789', 'D9': '123456789', 'E1': '3', 'E2': '123456789', 'E3': '123456789', 'E4': '123456789', 'E5': '9', 'E6': '123456789', 'E7': '123456789', 'E8': '123456789', 'E9': '7', 'F1': '123456789', 'F2': '123456789', 'F3': '123456789', 'F4': '6', 'F5': '123456789', 'F6': '123456789', 'F7': '4', 'F8': '123456789', 'F9': '123456789', 'G1': '123456789', 'G2': '4', 'G3': '123456789', 'G4': '123456789', 'G5': '123456789', 'G6': '123456789', 'G7': '8', 'G8': '123456789', 'G9': '123456789', 'H1': '123456789', 'H2': '123456789', 'H3': '5', 'H4': '2', 'H5': '123456789', 'H6': '123456789', 'H7': '123456789', 'H8': '123456789', 'H9': '123456789', 'I1': '123456789', 'I2': '123456789', 'I3': '123456789', 'I4': '123456789', 'I5': '123456789', 'I6': '123456789', 'I7': '123456789', 'I8': '123456789', 'I9': '3'}\n"
     ]
    }
   ],
   "source": [
    "sudoku = '2.............62....1....7...6..8...3...9...7...6..4...4....8....52.............3'\n",
    "grid_sudoku = grid_values(sudoku)\n",
    "print(grid_sudoku)"
   ]
  },
  {
   "cell_type": "markdown",
   "metadata": {},
   "source": [
    "### Display Sudoku"
   ]
  },
  {
   "cell_type": "code",
   "execution_count": 15,
   "metadata": {},
   "outputs": [],
   "source": [
    "def display(values):\n",
    "    \"\"\"\n",
    "    Display the values as a 2-D grid.\n",
    "    Input:  values(dict): The sudoku in dictionary form\n",
    "    \"\"\"\n",
    "    import copy\n",
    "    val = copy.copy(values)\n",
    "    for k, v in val.items():\n",
    "        if len(v) > 1:\n",
    "            val[k] = \"\"\n",
    "\n",
    "    width = 1 + max(len(val[s]) for s in boxes)\n",
    "    line = '+'.join(['-' * (width * 3)] * 3)\n",
    "    for r in rows:\n",
    "        print(''.join(val[r + c].center(width) + ('|' if c in '36' else '') for c in cols))\n",
    "        if r in 'CF':\n",
    "            print(line)"
   ]
  },
  {
   "cell_type": "code",
   "execution_count": 16,
   "metadata": {},
   "outputs": [
    {
     "name": "stdout",
     "output_type": "stream",
     "text": [
      "2     |      |      \n",
      "      |    6 |2     \n",
      "    1 |      |  7   \n",
      "------+------+------\n",
      "    6 |    8 |      \n",
      "3     |  9   |    7 \n",
      "      |6     |4     \n",
      "------+------+------\n",
      "  4   |      |8     \n",
      "    5 |2     |      \n",
      "      |      |    3 \n"
     ]
    }
   ],
   "source": [
    "display(grid_sudoku)"
   ]
  },
  {
   "cell_type": "markdown",
   "metadata": {},
   "source": [
    "## Solving strategies "
   ]
  },
  {
   "cell_type": "code",
   "execution_count": 17,
   "metadata": {},
   "outputs": [],
   "source": [
    "def eliminate(values):\n",
    "    \"\"\"\n",
    "    Go through all the boxes, and whenever there is a box with a value, eliminate this value\n",
    "    from the values of all its peers.\n",
    "    Input:  A sudoku in dictionary form.\n",
    "    Output: The resulting sudoku in dictionary form.\n",
    "    \"\"\"\n",
    "    # get solved boxes (1 value)\n",
    "    solved = [box for box in values.keys() if len(values[box]) == 1]\n",
    "    for box in solved:\n",
    "        for peer in peers[box]:\n",
    "            # eliminate solved value from peers (if possible)\n",
    "            value = values[peer].replace(values[box], '')\n",
    "            values[peer] = value\n",
    "    return values"
   ]
  },
  {
   "cell_type": "code",
   "execution_count": 18,
   "metadata": {},
   "outputs": [],
   "source": [
    "def only_choice(values):\n",
    "    \"\"\"\n",
    "    Go through all the units, and whenever there is a unit with a value that only fits in one \n",
    "    box, assign the value to this box.\n",
    "    Input:  A sudoku in dictionary form.\n",
    "    Output: The resulting sudoku in dictionary form.\n",
    "    \"\"\"\n",
    "    for unit in unitlist:\n",
    "        for digit in '123456789':\n",
    "            # boxes per unit holding a particular digit\n",
    "            dplaces = [box for box in unit if digit in values[box]]\n",
    "            if len(dplaces) == 1:\n",
    "                # Just 1 box has the digit in its values for this unit -> only choice\n",
    "                values[dplaces[0]] = digit\n",
    "    return values"
   ]
  },
  {
   "cell_type": "code",
   "execution_count": 19,
   "metadata": {},
   "outputs": [],
   "source": [
    "def naked_twins(values):\n",
    "    \"\"\"\n",
    "    Eliminate values using the naked twins strategy.\n",
    "    Input: values(dict): a dictionary of the form {'box_name': '123456789', ...}\n",
    "    Output: the values dictionary with the naked twins eliminated from peers.\n",
    "    \"\"\"\n",
    "    two_digit_boxes = [box for box in values.keys() if len(values[box]) == 2]\n",
    "    # each two_digit_boxes searches for a twin among its peers\n",
    "    for box in two_digit_boxes:\n",
    "        for peer in peers[box]:\n",
    "            if values[peer] == values[box]:\n",
    "                # pair of naked twins found\n",
    "                # getting its shared units:  usually one, although more is possible\n",
    "                shared_units = [x for x in units[box] if x in units[peer]]\n",
    "                # For each cell in each shared unit, remove the two digits of the naked twins\n",
    "                # (except for the twins)\n",
    "                for shared_unit in shared_units:\n",
    "                    for b in shared_unit:\n",
    "                        if b != box and b != peer:\n",
    "                            for digit in values[box]:\n",
    "                                value = values[b].replace(digit, '')\n",
    "                                values[b] = value\n",
    "    return values"
   ]
  },
  {
   "cell_type": "markdown",
   "metadata": {},
   "source": [
    "## Reduce Sudoku\n",
    "\n",
    "Main loop called from the seach strategy. It will try to solve the puzzle by calling the above strategies iteratively"
   ]
  },
  {
   "cell_type": "code",
   "execution_count": 20,
   "metadata": {},
   "outputs": [],
   "source": [
    "def reduce_puzzle(values):\n",
    "    \"\"\"\n",
    "    Iterate eliminate(), only_choice(), and naked_twins().\n",
    "    If at some point, there is a box with no available values, return False.\n",
    "    If the sudoku is solved, return the sudoku.\n",
    "    If after an iteration of all the functions, the sudoku remains the same, return the sudoku.\n",
    "    Input: A sudoku in dictionary form.\n",
    "    Output: The resulting sudoku in dictionary form.\n",
    "    \"\"\"\n",
    "\n",
    "    stalled = False\n",
    "    while not stalled:\n",
    "        # Check how many boxes have a determined value\n",
    "        solved_values_before = len([box for box in values.keys() if len(values[box]) == 1])\n",
    "\n",
    "        # Eliminate Strategy\n",
    "        values = eliminate(values)\n",
    "        # Only Choice Strategy\n",
    "        values = only_choice(values)\n",
    "        # Naked Twins Strategy\n",
    "        values = naked_twins(values)\n",
    "\n",
    "        # Check how many boxes have a determined value, to compare\n",
    "        solved_values_after = len([box for box in values.keys() if len(values[box]) == 1])\n",
    "        # If no new values were added, stop the loop.\n",
    "        stalled = solved_values_before == solved_values_after\n",
    "        # Sanity check, return False if there is a box with zero available values:\n",
    "        if len([box for box in values.keys() if len(values[box]) == 0]):\n",
    "            return False\n",
    "    return values"
   ]
  },
  {
   "cell_type": "markdown",
   "metadata": {},
   "source": [
    "## Solve Sudoku using Depth-first search"
   ]
  },
  {
   "cell_type": "code",
   "execution_count": 21,
   "metadata": {},
   "outputs": [],
   "source": [
    "def search(values):\n",
    "    \"\"\"\n",
    "    Using depth-first search and propagation, try all possible values\n",
    "    Input: A sudoku in dictionary form.\n",
    "    Output: The resulting sudoku in dictionary form or False if there is a box with zero \n",
    "            available values\n",
    "    \"\"\"\n",
    "    # reduce the puzzle\n",
    "    values = reduce_puzzle(values)\n",
    "    if values is False:  # Unsolved (zero available values)\n",
    "        return False\n",
    "    if all(len(values[s]) == 1 for s in boxes):  # Solved\n",
    "        return values\n",
    "\n",
    "    # choose one of the unfilled squares with the fewest possibilities\n",
    "    _, s = min((len(values[s]), s) for s in boxes if len(values[s]) > 1)\n",
    "\n",
    "    # solve recursively each one of the resulting sudokus; if one returns a value (not False),\n",
    "    # return the answer\n",
    "    for value in values[s]:\n",
    "        new_sudoku = values.copy()\n",
    "        new_sudoku[s] = value\n",
    "        attempt = search(new_sudoku)\n",
    "        if attempt:\n",
    "            return attempt"
   ]
  },
  {
   "cell_type": "code",
   "execution_count": 22,
   "metadata": {},
   "outputs": [
    {
     "name": "stdout",
     "output_type": "stream",
     "text": [
      "\n",
      "\n",
      "  Sudoku:\n",
      "\n",
      "2     |      |      \n",
      "      |    6 |2     \n",
      "    1 |      |  7   \n",
      "------+------+------\n",
      "    6 |    8 |      \n",
      "3     |  9   |    7 \n",
      "      |6     |4     \n",
      "------+------+------\n",
      "  4   |      |8     \n",
      "    5 |2     |      \n",
      "      |      |    3 \n",
      "\n",
      "  Solution found: \n",
      "\n",
      "2 6 7 |9 4 5 |3 8 1 \n",
      "8 5 3 |7 1 6 |2 4 9 \n",
      "4 9 1 |8 2 3 |5 7 6 \n",
      "------+------+------\n",
      "5 7 6 |4 3 8 |1 9 2 \n",
      "3 8 4 |1 9 2 |6 5 7 \n",
      "1 2 9 |6 5 7 |4 3 8 \n",
      "------+------+------\n",
      "6 4 2 |3 7 9 |8 1 5 \n",
      "9 3 5 |2 8 1 |7 6 4 \n",
      "7 1 8 |5 6 4 |9 2 3 \n",
      "\n",
      "\n",
      "  Sudoku:\n",
      "\n",
      "  2   |8     |4 9 3 \n",
      "      |3 9 2 |      \n",
      "      |    5 |      \n",
      "------+------+------\n",
      "3     |      |      \n",
      "      |4 5 1 |      \n",
      "      |      |    6 \n",
      "------+------+------\n",
      "      |5     |      \n",
      "      |1 2 7 |      \n",
      "2 5 1 |    9 |  3   \n",
      "\n",
      "  Solution found: \n",
      "\n",
      "7 2 5 |8 1 6 |4 9 3 \n",
      "4 8 6 |3 9 2 |5 1 7 \n",
      "1 3 9 |7 4 5 |6 8 2 \n",
      "------+------+------\n",
      "3 7 4 |2 6 8 |9 5 1 \n",
      "6 9 2 |4 5 1 |3 7 8 \n",
      "5 1 8 |9 7 3 |2 4 6 \n",
      "------+------+------\n",
      "8 6 7 |5 3 4 |1 2 9 \n",
      "9 4 3 |1 2 7 |8 6 5 \n",
      "2 5 1 |6 8 9 |7 3 4 \n"
     ]
    }
   ],
   "source": [
    "def solve(string_sudoku):\n",
    "    \"\"\"\n",
    "        Find the solution to a Sudoku grid.\n",
    "        Input:  grid(string): a string representing a sudoku grid.\n",
    "                Example: '2.............62....1....7...6..8...3...9...7...6..4...4....8....52\n",
    "                .............3'\n",
    "        Output: The dictionary representation of the final sudoku grid. False if no solution.\n",
    "    \"\"\"\n",
    "\n",
    "    grid_sudoku = grid_values(sudoku)\n",
    "\n",
    "    print(\"\\n\\n  Sudoku:\\n\")\n",
    "    display(grid_sudoku)\n",
    "\n",
    "    solution = search(grid_sudoku)\n",
    "    if solution:\n",
    "        print(\"\\n  Solution found: \\n\")\n",
    "        display(solution)\n",
    "    else:\n",
    "        print(\"\\n  Solution not found: \\n\")\n",
    "\n",
    "\n",
    "# Add custom doagonal sudokus\n",
    "sudokus = [\n",
    "    '2.............62....1....7...6..8...3...9...7...6..4...4....8....52.............3',\n",
    "    '.2.8..493...392........5...3...........451...........6...5........127...251..9.3.'\n",
    "]\n",
    "\n",
    "for sudoku in sudokus:\n",
    "    solve(sudoku)"
   ]
  }
 ],
 "metadata": {
  "kernelspec": {
   "display_name": "Python 3",
   "language": "python",
   "name": "python3"
  },
  "language_info": {
   "codemirror_mode": {
    "name": "ipython",
    "version": 3
   },
   "file_extension": ".py",
   "mimetype": "text/x-python",
   "name": "python",
   "nbconvert_exporter": "python",
   "pygments_lexer": "ipython3",
   "version": "3.6.3"
  }
 },
 "nbformat": 4,
 "nbformat_minor": 2
}
